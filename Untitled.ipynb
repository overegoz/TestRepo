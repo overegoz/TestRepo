{
 "cells": [
  {
   "cell_type": "code",
   "execution_count": 1,
   "metadata": {},
   "outputs": [],
   "source": [
    "import pandas as pd\n",
    "import numpy as np"
   ]
  },
  {
   "cell_type": "code",
   "execution_count": 2,
   "metadata": {},
   "outputs": [],
   "source": [
    "data = pd.read_csv('ex1data1.txt',names=['x','y'])# pandas로 데이터를 읽어와서 ,"
   ]
  },
  {
   "cell_type": "code",
   "execution_count": 3,
   "metadata": {},
   "outputs": [
    {
     "data": {
      "text/html": [
       "<div>\n",
       "<style scoped>\n",
       "    .dataframe tbody tr th:only-of-type {\n",
       "        vertical-align: middle;\n",
       "    }\n",
       "\n",
       "    .dataframe tbody tr th {\n",
       "        vertical-align: top;\n",
       "    }\n",
       "\n",
       "    .dataframe thead th {\n",
       "        text-align: right;\n",
       "    }\n",
       "</style>\n",
       "<table border=\"1\" class=\"dataframe\">\n",
       "  <thead>\n",
       "    <tr style=\"text-align: right;\">\n",
       "      <th></th>\n",
       "      <th>x</th>\n",
       "      <th>y</th>\n",
       "    </tr>\n",
       "  </thead>\n",
       "  <tbody>\n",
       "    <tr>\n",
       "      <th>0</th>\n",
       "      <td>6.1101</td>\n",
       "      <td>17.59200</td>\n",
       "    </tr>\n",
       "    <tr>\n",
       "      <th>1</th>\n",
       "      <td>5.5277</td>\n",
       "      <td>9.13020</td>\n",
       "    </tr>\n",
       "    <tr>\n",
       "      <th>2</th>\n",
       "      <td>8.5186</td>\n",
       "      <td>13.66200</td>\n",
       "    </tr>\n",
       "    <tr>\n",
       "      <th>3</th>\n",
       "      <td>7.0032</td>\n",
       "      <td>11.85400</td>\n",
       "    </tr>\n",
       "    <tr>\n",
       "      <th>4</th>\n",
       "      <td>5.8598</td>\n",
       "      <td>6.82330</td>\n",
       "    </tr>\n",
       "    <tr>\n",
       "      <th>...</th>\n",
       "      <td>...</td>\n",
       "      <td>...</td>\n",
       "    </tr>\n",
       "    <tr>\n",
       "      <th>92</th>\n",
       "      <td>5.8707</td>\n",
       "      <td>7.20290</td>\n",
       "    </tr>\n",
       "    <tr>\n",
       "      <th>93</th>\n",
       "      <td>5.3054</td>\n",
       "      <td>1.98690</td>\n",
       "    </tr>\n",
       "    <tr>\n",
       "      <th>94</th>\n",
       "      <td>8.2934</td>\n",
       "      <td>0.14454</td>\n",
       "    </tr>\n",
       "    <tr>\n",
       "      <th>95</th>\n",
       "      <td>13.3940</td>\n",
       "      <td>9.05510</td>\n",
       "    </tr>\n",
       "    <tr>\n",
       "      <th>96</th>\n",
       "      <td>5.4369</td>\n",
       "      <td>0.61705</td>\n",
       "    </tr>\n",
       "  </tbody>\n",
       "</table>\n",
       "<p>97 rows × 2 columns</p>\n",
       "</div>"
      ],
      "text/plain": [
       "          x         y\n",
       "0    6.1101  17.59200\n",
       "1    5.5277   9.13020\n",
       "2    8.5186  13.66200\n",
       "3    7.0032  11.85400\n",
       "4    5.8598   6.82330\n",
       "..      ...       ...\n",
       "92   5.8707   7.20290\n",
       "93   5.3054   1.98690\n",
       "94   8.2934   0.14454\n",
       "95  13.3940   9.05510\n",
       "96   5.4369   0.61705\n",
       "\n",
       "[97 rows x 2 columns]"
      ]
     },
     "execution_count": 3,
     "metadata": {},
     "output_type": "execute_result"
    }
   ],
   "source": [
    "data"
   ]
  },
  {
   "cell_type": "code",
   "execution_count": 4,
   "metadata": {},
   "outputs": [],
   "source": [
    "npdata = np.array(data)"
   ]
  },
  {
   "cell_type": "markdown",
   "metadata": {},
   "source": [
    "$A\\theta$ = hypothesis ,  h =  Wx + bias이다.   $\\theta_0$= bias라고 할 때,$\\theta_1 = W$ A = [1,x]   \n",
    "$\\theta$.T = [$\\theta_0 , \\theta_1$].T\n",
    "\n",
    "우리가 구하고 싶은 것은 무엇? linear function을 $A\\theta -b$라고 할 때, A는 데이터가 들어있는 값, $\\theta$는 weight parameter, b는 정답인 label이 들어가 있다."
   ]
  },
  {
   "cell_type": "code",
   "execution_count": 5,
   "metadata": {},
   "outputs": [],
   "source": [
    "b = npdata[:,1].reshape(-1,1) # b에다가 label값을 집어 넣었다."
   ]
  },
  {
   "cell_type": "code",
   "execution_count": 6,
   "metadata": {},
   "outputs": [],
   "source": [
    "# theta = np.array([np.random.randint(0,1,size=(97,1)) ,np.random.randint(0,1,size=(97,1))])"
   ]
  },
  {
   "cell_type": "code",
   "execution_count": 7,
   "metadata": {},
   "outputs": [],
   "source": [
    "# theta.shape"
   ]
  },
  {
   "cell_type": "code",
   "execution_count": 8,
   "metadata": {},
   "outputs": [
    {
     "data": {
      "text/plain": [
       "(array([[ 1.    ,  6.1101],\n",
       "        [ 1.    ,  5.5277],\n",
       "        [ 1.    ,  8.5186],\n",
       "        [ 1.    ,  7.0032],\n",
       "        [ 1.    ,  5.8598],\n",
       "        [ 1.    ,  8.3829],\n",
       "        [ 1.    ,  7.4764],\n",
       "        [ 1.    ,  8.5781],\n",
       "        [ 1.    ,  6.4862],\n",
       "        [ 1.    ,  5.0546],\n",
       "        [ 1.    ,  5.7107],\n",
       "        [ 1.    , 14.164 ],\n",
       "        [ 1.    ,  5.734 ],\n",
       "        [ 1.    ,  8.4084],\n",
       "        [ 1.    ,  5.6407],\n",
       "        [ 1.    ,  5.3794],\n",
       "        [ 1.    ,  6.3654],\n",
       "        [ 1.    ,  5.1301],\n",
       "        [ 1.    ,  6.4296],\n",
       "        [ 1.    ,  7.0708],\n",
       "        [ 1.    ,  6.1891],\n",
       "        [ 1.    , 20.27  ],\n",
       "        [ 1.    ,  5.4901],\n",
       "        [ 1.    ,  6.3261],\n",
       "        [ 1.    ,  5.5649],\n",
       "        [ 1.    , 18.945 ],\n",
       "        [ 1.    , 12.828 ],\n",
       "        [ 1.    , 10.957 ],\n",
       "        [ 1.    , 13.176 ],\n",
       "        [ 1.    , 22.203 ],\n",
       "        [ 1.    ,  5.2524],\n",
       "        [ 1.    ,  6.5894],\n",
       "        [ 1.    ,  9.2482],\n",
       "        [ 1.    ,  5.8918],\n",
       "        [ 1.    ,  8.2111],\n",
       "        [ 1.    ,  7.9334],\n",
       "        [ 1.    ,  8.0959],\n",
       "        [ 1.    ,  5.6063],\n",
       "        [ 1.    , 12.836 ],\n",
       "        [ 1.    ,  6.3534],\n",
       "        [ 1.    ,  5.4069],\n",
       "        [ 1.    ,  6.8825],\n",
       "        [ 1.    , 11.708 ],\n",
       "        [ 1.    ,  5.7737],\n",
       "        [ 1.    ,  7.8247],\n",
       "        [ 1.    ,  7.0931],\n",
       "        [ 1.    ,  5.0702],\n",
       "        [ 1.    ,  5.8014],\n",
       "        [ 1.    , 11.7   ],\n",
       "        [ 1.    ,  5.5416],\n",
       "        [ 1.    ,  7.5402],\n",
       "        [ 1.    ,  5.3077],\n",
       "        [ 1.    ,  7.4239],\n",
       "        [ 1.    ,  7.6031],\n",
       "        [ 1.    ,  6.3328],\n",
       "        [ 1.    ,  6.3589],\n",
       "        [ 1.    ,  6.2742],\n",
       "        [ 1.    ,  5.6397],\n",
       "        [ 1.    ,  9.3102],\n",
       "        [ 1.    ,  9.4536],\n",
       "        [ 1.    ,  8.8254],\n",
       "        [ 1.    ,  5.1793],\n",
       "        [ 1.    , 21.279 ],\n",
       "        [ 1.    , 14.908 ],\n",
       "        [ 1.    , 18.959 ],\n",
       "        [ 1.    ,  7.2182],\n",
       "        [ 1.    ,  8.2951],\n",
       "        [ 1.    , 10.236 ],\n",
       "        [ 1.    ,  5.4994],\n",
       "        [ 1.    , 20.341 ],\n",
       "        [ 1.    , 10.136 ],\n",
       "        [ 1.    ,  7.3345],\n",
       "        [ 1.    ,  6.0062],\n",
       "        [ 1.    ,  7.2259],\n",
       "        [ 1.    ,  5.0269],\n",
       "        [ 1.    ,  6.5479],\n",
       "        [ 1.    ,  7.5386],\n",
       "        [ 1.    ,  5.0365],\n",
       "        [ 1.    , 10.274 ],\n",
       "        [ 1.    ,  5.1077],\n",
       "        [ 1.    ,  5.7292],\n",
       "        [ 1.    ,  5.1884],\n",
       "        [ 1.    ,  6.3557],\n",
       "        [ 1.    ,  9.7687],\n",
       "        [ 1.    ,  6.5159],\n",
       "        [ 1.    ,  8.5172],\n",
       "        [ 1.    ,  9.1802],\n",
       "        [ 1.    ,  6.002 ],\n",
       "        [ 1.    ,  5.5204],\n",
       "        [ 1.    ,  5.0594],\n",
       "        [ 1.    ,  5.7077],\n",
       "        [ 1.    ,  7.6366],\n",
       "        [ 1.    ,  5.8707],\n",
       "        [ 1.    ,  5.3054],\n",
       "        [ 1.    ,  8.2934],\n",
       "        [ 1.    , 13.394 ],\n",
       "        [ 1.    ,  5.4369]]),)"
      ]
     },
     "execution_count": 8,
     "metadata": {},
     "output_type": "execute_result"
    }
   ],
   "source": [
    "A=np.ones((97,2))\n",
    "A[:,1]  = npdata[:,0]\n",
    "A , "
   ]
  },
  {
   "cell_type": "markdown",
   "metadata": {},
   "source": [
    "A(theta) -b = 0\n",
    "A.TA(theta) = A.Tb\n",
    "theta = (A.TA)^inverse A.Tb"
   ]
  },
  {
   "cell_type": "code",
   "execution_count": 9,
   "metadata": {},
   "outputs": [
    {
     "data": {
      "text/plain": [
       "array([[ 0.05662112, -0.00567561],\n",
       "       [-0.00567561,  0.00069556]])"
      ]
     },
     "execution_count": 9,
     "metadata": {},
     "output_type": "execute_result"
    }
   ],
   "source": [
    "A_i = np.linalg.inv(np.matmul(A.T, A))\n",
    "A_i"
   ]
  },
  {
   "cell_type": "code",
   "execution_count": 10,
   "metadata": {},
   "outputs": [
    {
     "data": {
      "text/plain": [
       "((2, 97), (97, 1))"
      ]
     },
     "execution_count": 10,
     "metadata": {},
     "output_type": "execute_result"
    }
   ],
   "source": [
    "np.matmul(A_i, A.T).shape , b.shape"
   ]
  },
  {
   "cell_type": "code",
   "execution_count": 11,
   "metadata": {},
   "outputs": [
    {
     "data": {
      "text/plain": [
       "array([[-3.89578088],\n",
       "       [ 1.19303364]])"
      ]
     },
     "execution_count": 11,
     "metadata": {},
     "output_type": "execute_result"
    }
   ],
   "source": [
    "theta =np.matmul(np.matmul(A_i ,A.T) , b)\n",
    "theta #우리가 구하고 싶은 가중치 weight"
   ]
  },
  {
   "cell_type": "code",
   "execution_count": 12,
   "metadata": {},
   "outputs": [
    {
     "data": {
      "text/plain": [
       "4.476971375975179"
      ]
     },
     "execution_count": 12,
     "metadata": {},
     "output_type": "execute_result"
    }
   ],
   "source": [
    "mean = np.sum(np.power((np.matmul(A, theta) - b),2))/97/2\n",
    "mean #평균 loss"
   ]
  },
  {
   "cell_type": "code",
   "execution_count": 13,
   "metadata": {},
   "outputs": [
    {
     "data": {
      "text/plain": [
       "((97, 2), (2, 1), (97, 1))"
      ]
     },
     "execution_count": 13,
     "metadata": {},
     "output_type": "execute_result"
    }
   ],
   "source": [
    "A.shape, theta.shape,  np.matmul(A,theta).shape"
   ]
  },
  {
   "cell_type": "code",
   "execution_count": 14,
   "metadata": {},
   "outputs": [
    {
     "data": {
      "image/png": "[encoded data removed]",
      "text/plain": [
       "<Figure size 432x288 with 1 Axes>"
      ]
     },
     "metadata": {
      "image/png": {
       "height": 248,
       "width": 370
      },
      "needs_background": "light"
     },
     "output_type": "display_data"
    }
   ],
   "source": [
    "%matplotlib inline\n",
    "%config InlineBackend.figure_format = 'retina'\n",
    "\n",
    "import matplotlib.pyplot as plt\n",
    "plt.scatter(npdata[:,0], npdata[:,1] , c = \"red\")\n",
    "plt.plot(npdata[:,0], np.matmul(A, theta))\n",
    "plt.show()"
   ]
  },
  {
   "cell_type": "code",
   "execution_count": 15,
   "metadata": {},
   "outputs": [
    {
     "data": {
      "text/plain": [
       "(97, 2)"
      ]
     },
     "execution_count": 15,
     "metadata": {},
     "output_type": "execute_result"
    }
   ],
   "source": [
    "A.shape"
   ]
  },
  {
   "cell_type": "markdown",
   "metadata": {},
   "source": [
    "\\begin{align*}\n",
    "||A\\theta -b||_2^2 = \\dfrac{1}{2m} \\sum_{i=1}^m (h_\\theta(x_i)-y_i)\n",
    "\\end{align*}"
   ]
  },
  {
   "cell_type": "code",
   "execution_count": 27,
   "metadata": {},
   "outputs": [
    {
     "data": {
      "text/plain": [
       "array([0.80551636, 0.05126003])"
      ]
     },
     "execution_count": 27,
     "metadata": {},
     "output_type": "execute_result"
    }
   ],
   "source": [
    "weight = np.random.rand(2) # weight하고, bias를 설정 # 초기 설정\n",
    "weight"
   ]
  },
  {
   "cell_type": "code",
   "execution_count": 28,
   "metadata": {},
   "outputs": [
    {
     "data": {
      "text/plain": [
       "((97, 2), (2,), (97, 2))"
      ]
     },
     "execution_count": 28,
     "metadata": {},
     "output_type": "execute_result"
    }
   ],
   "source": [
    "A.shape , weight.shape , npdata.shape"
   ]
  },
  {
   "cell_type": "code",
   "execution_count": 29,
   "metadata": {},
   "outputs": [
    {
     "name": "stdout",
     "output_type": "stream",
     "text": [
      "(97, 1) (97, 1)\n"
     ]
    }
   ],
   "source": [
    "x = npdata[:,0].reshape(-1,1)# x변수\n",
    "y = npdata[:,1].reshape(-1,1)\n",
    "print(x.shape, y.shape)\n",
    "# hypothesis = Aweight"
   ]
  },
  {
   "cell_type": "code",
   "execution_count": 30,
   "metadata": {},
   "outputs": [
    {
     "data": {
      "text/plain": [
       "((97, 2), (2,))"
      ]
     },
     "execution_count": 30,
     "metadata": {},
     "output_type": "execute_result"
    }
   ],
   "source": [
    "A.shape, weight.shape"
   ]
  },
  {
   "cell_type": "code",
   "execution_count": 31,
   "metadata": {},
   "outputs": [
    {
     "data": {
      "text/plain": [
       "(97,)"
      ]
     },
     "execution_count": 31,
     "metadata": {},
     "output_type": "execute_result"
    }
   ],
   "source": [
    "np.matmul(A,weight).shape"
   ]
  },
  {
   "cell_type": "code",
   "execution_count": 32,
   "metadata": {},
   "outputs": [
    {
     "data": {
      "text/plain": [
       "(-447.6886676289109, -5368.269518657387)"
      ]
     },
     "execution_count": 32,
     "metadata": {},
     "output_type": "execute_result"
    }
   ],
   "source": [
    "d1 = (1/97)*np.sum(np.matmul(A,weight) - y)\n",
    "d2 = (1/97)*np.sum((np.matmul(A,weight)-y)*x)\n",
    "d1,d2"
   ]
  },
  {
   "cell_type": "code",
   "execution_count": 33,
   "metadata": {},
   "outputs": [
    {
     "ename": "SyntaxError",
     "evalue": "invalid syntax (<ipython-input-33-e2fdf40b1e5e>, line 12)",
     "output_type": "error",
     "traceback": [
      "\u001b[1;36m  File \u001b[1;32m\"<ipython-input-33-e2fdf40b1e5e>\"\u001b[1;36m, line \u001b[1;32m12\u001b[0m\n\u001b[1;33m    if( i==100){\u001b[0m\n\u001b[1;37m               ^\u001b[0m\n\u001b[1;31mSyntaxError\u001b[0m\u001b[1;31m:\u001b[0m invalid syntax\n"
     ]
    }
   ],
   "source": [
    "alpha = 0.1 # learning_late\n",
    "for i in range(5000):\n",
    "    if(i%1000==999):\n",
    "        print(t0,t1)\n",
    "        print(\"weight = \",weight , \"alpha =\",alpha)\n",
    "        alpha = alpha*0.1\n",
    "    d1 = (1/97)*np.sum(np.matmul(A,weight) - y)\n",
    "    d2 = (1/97)*np.sum((np.matmul(A,weight)-y)*x)\n",
    "    t0 = weight[0]-alpha*d1 # 한번에 업데이트 하기 위해서 변수를 추가 설정\n",
    "    t1 = weight[1]-alpha*d2\n",
    "    weight = np.array([t0,t1])\n",
    "    if( i==100){\n",
    "        break;\n",
    "    }\n",
    "#     print(\"d1 = \",d1,\"d2 = \",d2)\n",
    "#     print(\"t0 = \", t0,\"t1 = \",t1)\n",
    "#     if np.isnan(t0):\n",
    "#         print(\"i = \", i, weight, t0,t1)\n",
    "#         break\n",
    "#     print(t0,t1)\n",
    "#     break"
   ]
  },
  {
   "cell_type": "code",
   "execution_count": 34,
   "metadata": {},
   "outputs": [
    {
     "data": {
      "text/plain": [
       "0.8055163622840024"
      ]
     },
     "execution_count": 34,
     "metadata": {},
     "output_type": "execute_result"
    }
   ],
   "source": [
    "weight[0]"
   ]
  },
  {
   "cell_type": "code",
   "execution_count": 35,
   "metadata": {},
   "outputs": [
    {
     "data": {
      "image/png": "[encoded data removed]",
      "text/plain": [
       "<Figure size 432x288 with 1 Axes>"
      ]
     },
     "metadata": {
      "image/png": {
       "height": 248,
       "width": 370
      },
      "needs_background": "light"
     },
     "output_type": "display_data"
    }
   ],
   "source": [
    "%matplotlib inline\n",
    "%config InlineBackend.figure_format = 'retina'\n",
    "\n",
    "import matplotlib.pyplot as plt\n",
    "plt.scatter(npdata[:,0], npdata[:,1] , c = \"red\")\n",
    "plt.plot(npdata[:,0], np.matmul(A, weight))\n",
    "plt.show()"
   ]
  },
  {
   "cell_type": "code",
   "execution_count": 25,
   "metadata": {},
   "outputs": [
    {
     "data": {
      "text/plain": [
       "((2, 3), (2, 2))"
      ]
     },
     "execution_count": 25,
     "metadata": {},
     "output_type": "execute_result"
    }
   ],
   "source": [
    "a  = np.array([[5,0,3],[3,7,9]])\n",
    "b = np.array([[3,5],[2,4]])\n",
    "a.shape, b.shape"
   ]
  },
  {
   "cell_type": "code",
   "execution_count": 26,
   "metadata": {},
   "outputs": [
    {
     "ename": "NameError",
     "evalue": "name 'B' is not defined",
     "output_type": "error",
     "traceback": [
      "\u001b[1;31m---------------------------------------------------------------------------\u001b[0m",
      "\u001b[1;31mNameError\u001b[0m                                 Traceback (most recent call last)",
      "\u001b[1;32m<ipython-input-26-3ce907e02103>\u001b[0m in \u001b[0;36m<module>\u001b[1;34m\u001b[0m\n\u001b[1;32m----> 1\u001b[1;33m \u001b[0mnp\u001b[0m\u001b[1;33m.\u001b[0m\u001b[0mmatmul\u001b[0m\u001b[1;33m(\u001b[0m\u001b[0mA\u001b[0m\u001b[1;33m.\u001b[0m\u001b[0mT\u001b[0m\u001b[1;33m,\u001b[0m \u001b[0mB\u001b[0m\u001b[1;33m)\u001b[0m\u001b[1;33m\u001b[0m\u001b[1;33m\u001b[0m\u001b[0m\n\u001b[0m",
      "\u001b[1;31mNameError\u001b[0m: name 'B' is not defined"
     ]
    }
   ],
   "source": [
    "np.matmul(A.T, B)"
   ]
  }
 ],
 "metadata": {
  "kernelspec": {
   "display_name": "Python 3",
   "language": "python",
   "name": "python3"
  },
  "language_info": {
   "codemirror_mode": {
    "name": "ipython",
    "version": 3
   },
   "file_extension": ".py",
   "mimetype": "text/x-python",
   "name": "python",
   "nbconvert_exporter": "python",
   "pygments_lexer": "ipython3",
   "version": "3.8.5"
  }
 },
 "nbformat": 4,
 "nbformat_minor": 4
}
